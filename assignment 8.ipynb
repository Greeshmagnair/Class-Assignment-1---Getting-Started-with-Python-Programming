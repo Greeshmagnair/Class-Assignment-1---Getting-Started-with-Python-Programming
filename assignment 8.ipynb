{
  "nbformat": 4,
  "nbformat_minor": 0,
  "metadata": {
    "colab": {
      "name": "Untitled7.ipynb",
      "provenance": [],
      "authorship_tag": "ABX9TyP0bYpCf9LTKjW84UwxzAQj",
      "include_colab_link": true
    },
    "kernelspec": {
      "name": "python3",
      "display_name": "Python 3"
    }
  },
  "cells": [
    {
      "cell_type": "markdown",
      "metadata": {
        "id": "view-in-github",
        "colab_type": "text"
      },
      "source": [
        "<a href=\"https://colab.research.google.com/github/Greeshmagnair/Class-Assignment-1---Getting-Started-with-Python-Programming/blob/master/assignment%208.ipynb\" target=\"_parent\"><img src=\"https://colab.research.google.com/assets/colab-badge.svg\" alt=\"Open In Colab\"/></a>"
      ]
    },
    {
      "cell_type": "code",
      "metadata": {
        "id": "JB6N_Emv2YBv",
        "colab": {
          "base_uri": "https://localhost:8080/"
        },
        "outputId": "e87ff59b-b94c-424f-b99b-0abdbecb3f12"
      },
      "source": [
        "r = lambda a : a + 15\r\n",
        "print(r(10))\r\n",
        "r = lambda x, y : x * y\r\n",
        "print(r(8,7))"
      ],
      "execution_count": 2,
      "outputs": [
        {
          "output_type": "stream",
          "text": [
            "25\n",
            "56\n"
          ],
          "name": "stdout"
        }
      ]
    },
    {
      "cell_type": "code",
      "metadata": {
        "id": "zXuTlEmU6s47"
      },
      "source": [
        "def recursive_max_impl(L,i):\r\n",
        "  if i == len(L)-1:\r\n",
        "    return L[i]\r\n",
        "  else:\r\n",
        "    return max(L[i],recursive_max_impl(L,i+1))\r\n",
        "\r\n",
        "    def recursive_max(L):\r\n",
        "      if len(L) == 0:\r\n",
        "        return -9999\r\n",
        "      else:\r\n",
        "        return recursive_max_impl(L,0)\r\n",
        "\r\n",
        "def recursive_max(L1,L2):\r\n",
        "   if __name__ == \"__main__\":\r\n",
        "     L1 = [5]\r\n",
        "     print(recursive_max( L1 ))\r\n",
        "     L2 =[24,23.5,12,14,1]\r\n",
        "     print(recursive_max( L2 ))\r\n",
        "     L2.append(55)\r\n",
        "     print(recursive_max( L2 ))"
      ],
      "execution_count": 10,
      "outputs": []
    },
    {
      "cell_type": "code",
      "metadata": {
        "colab": {
          "base_uri": "https://localhost:8080/"
        },
        "id": "o_72a6CH6s-j",
        "outputId": "240e0ef1-075a-4fab-865a-6353865181d7"
      },
      "source": [
        "def cal_average(num):\r\n",
        "    sum_num = 0\r\n",
        "    for t in num:\r\n",
        "        sum_num = sum_num + t           \r\n",
        "\r\n",
        "    avg = sum_num / len(num)\r\n",
        "    return avg\r\n",
        "\r\n",
        "print(\"The average is\", cal_average([18,25,3,41,5]))"
      ],
      "execution_count": 11,
      "outputs": [
        {
          "output_type": "stream",
          "text": [
            "The average is 18.4\n"
          ],
          "name": "stdout"
        }
      ]
    },
    {
      "cell_type": "code",
      "metadata": {
        "colab": {
          "base_uri": "https://localhost:8080/"
        },
        "id": "4QI5FrG56tDv",
        "outputId": "54fae13b-8350-414f-bfed-0ec0f658219d"
      },
      "source": [
        "my_list = ['a', 'b']\r\n",
        "n = 6\r\n",
        "new_list = ['{}{}'.format(x, y) for y in range(1, n+1) for x in my_list]\r\n",
        "print(new_list)"
      ],
      "execution_count": 12,
      "outputs": [
        {
          "output_type": "stream",
          "text": [
            "['a1', 'b1', 'a2', 'b2', 'a3', 'b3', 'a4', 'b4', 'a5', 'b5', 'a6', 'b6']\n"
          ],
          "name": "stdout"
        }
      ]
    },
    {
      "cell_type": "code",
      "metadata": {
        "colab": {
          "base_uri": "https://localhost:8080/"
        },
        "id": "-ZOlu-LR6vGH",
        "outputId": "d228b56c-74c1-472f-f297-cff59666a9f7"
      },
      "source": [
        "def Fibonacci(n): \r\n",
        "    if n<0: \r\n",
        "        print(\"Incorrect input\") \r\n",
        "    elif n==1: \r\n",
        "        return 0\r\n",
        "    elif n==2: \r\n",
        "        return 1\r\n",
        "    else: \r\n",
        "        return Fibonacci(n-1)+Fibonacci(n-2) \r\n",
        "\r\n",
        "print(Fibonacci(12)) "
      ],
      "execution_count": 14,
      "outputs": [
        {
          "output_type": "stream",
          "text": [
            "89\n"
          ],
          "name": "stdout"
        }
      ]
    },
    {
      "cell_type": "code",
      "metadata": {
        "colab": {
          "base_uri": "https://localhost:8080/"
        },
        "id": "pcVcJ-yQ8saY",
        "outputId": "f2afc87f-2dd9-41b3-8f13-afcede1da9f9"
      },
      "source": [
        "def recurSum(n): \r\n",
        "    if n <= 1: \r\n",
        "        return n \r\n",
        "    return n + recurSum(n - 1) \r\n",
        "n = 16\r\n",
        "print(recurSum(n)) "
      ],
      "execution_count": 16,
      "outputs": [
        {
          "output_type": "stream",
          "text": [
            "136\n"
          ],
          "name": "stdout"
        }
      ]
    },
    {
      "cell_type": "code",
      "metadata": {
        "colab": {
          "base_uri": "https://localhost:8080/"
        },
        "id": "wpTheBJ46vO2",
        "outputId": "fe45acdd-e404-42c8-dc5e-88b065196c61"
      },
      "source": [
        "def recursive_factorial(n):  \r\n",
        "   if n == 1:  \r\n",
        "       return n  \r\n",
        "   else:  \r\n",
        "       return n*recursive_factorial(n-1)  \r\n",
        "num = int(input(\"Enter a number: \"))    \r\n",
        "if num < 0:  \r\n",
        "   print(\"factorial does not exist for negative numbers\")  \r\n",
        "elif num == 0:  \r\n",
        "   print(\"The factorial of 0 is 1\")  \r\n",
        "else:  \r\n",
        "   print(\"The factorial of\",num,\"is\",recursive_factorial(num))  "
      ],
      "execution_count": 17,
      "outputs": [
        {
          "output_type": "stream",
          "text": [
            "Enter a number: 12\n",
            "The factorial of 12 is 479001600\n"
          ],
          "name": "stdout"
        }
      ]
    }
  ]
}