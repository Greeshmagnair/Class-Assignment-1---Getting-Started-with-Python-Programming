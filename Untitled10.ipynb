{
  "nbformat": 4,
  "nbformat_minor": 0,
  "metadata": {
    "colab": {
      "name": "Untitled10.ipynb",
      "provenance": [],
      "authorship_tag": "ABX9TyPmIMD+Y4h0KbB+hl3phqCL",
      "include_colab_link": true
    },
    "kernelspec": {
      "name": "python3",
      "display_name": "Python 3"
    }
  },
  "cells": [
    {
      "cell_type": "markdown",
      "metadata": {
        "id": "view-in-github",
        "colab_type": "text"
      },
      "source": [
        "<a href=\"https://colab.research.google.com/github/Greeshmagnair/Class-Assignment-1---Getting-Started-with-Python-Programming/blob/master/Untitled10.ipynb\" target=\"_parent\"><img src=\"https://colab.research.google.com/assets/colab-badge.svg\" alt=\"Open In Colab\"/></a>"
      ]
    },
    {
      "cell_type": "code",
      "metadata": {
        "colab": {
          "base_uri": "https://localhost:8080/"
        },
        "id": "Lg396ZACKkT7",
        "outputId": "86fc67be-dd18-41e2-a103-a20b75f0bd9f"
      },
      "source": [
        "def armstrong(num):\r\n",
        "  cpnum=num\r\n",
        "  sum=0\r\n",
        "  while(cpnum>0):\r\n",
        "    rev=int(cpnum%10)\r\n",
        "    sum=sum+(rev**3)\r\n",
        "    cpnum=int(cpnum/10)\r\n",
        "  if(sum==num):\r\n",
        "    return \"Armstrong\"\r\n",
        "  else:\r\n",
        "    return \"Not Armstrong\"\r\n",
        "\r\n",
        "num=int(input(\"Enter a number : \"))\r\n",
        "print(armstrong(num))"
      ],
      "execution_count": 3,
      "outputs": [
        {
          "output_type": "stream",
          "text": [
            "Enter a number : 134\n",
            "Not Armstrong\n"
          ],
          "name": "stdout"
        }
      ]
    },
    {
      "cell_type": "code",
      "metadata": {
        "colab": {
          "base_uri": "https://localhost:8080/"
        },
        "id": "OWO8OP0AK16M",
        "outputId": "2b437029-9196-475d-af7a-a6f65a209e9a"
      },
      "source": [
        "def rtriangle(a,b,c):\r\n",
        "  sum=a*2+b*2\r\n",
        "  if sum==c**2:\r\n",
        "    return \"Yes\"\r\n",
        "  else:\r\n",
        "    return \"No\"\r\n",
        "\r\n",
        "print(rtriangle(14,45,75))"
      ],
      "execution_count": 6,
      "outputs": [
        {
          "output_type": "stream",
          "text": [
            "No\n"
          ],
          "name": "stdout"
        }
      ]
    },
    {
      "cell_type": "code",
      "metadata": {
        "colab": {
          "base_uri": "https://localhost:8080/"
        },
        "id": "dhnVth6fLJ3_",
        "outputId": "752fd4e4-2ac4-46f2-bc17-a376981acf13"
      },
      "source": [
        "def prime(limit):\r\n",
        "  for num in range(2, limit + 1):\r\n",
        "            for i in range(2, num):\r\n",
        "                 if (num % i) == 0:\r\n",
        "                     break\r\n",
        "            else:print(num)\r\n",
        "\r\n",
        "limit=int(input(\"Enter limit :\"))\r\n",
        "prime(limit)"
      ],
      "execution_count": 7,
      "outputs": [
        {
          "output_type": "stream",
          "text": [
            "Enter limit :12\n",
            "2\n",
            "3\n",
            "5\n",
            "7\n",
            "11\n"
          ],
          "name": "stdout"
        }
      ]
    },
    {
      "cell_type": "code",
      "metadata": {
        "colab": {
          "base_uri": "https://localhost:8080/"
        },
        "id": "6FKo2tBCLN8_",
        "outputId": "4a2862ee-2ff2-4673-b467-88e244715e7f"
      },
      "source": [
        "value=float(input(\"Enter the value in Celcius : \"))\r\n",
        "fahrenheit = (value*(9/5)+32)\r\n",
        "print(\"The value in fahrenheit is : \",fahrenheit)"
      ],
      "execution_count": 8,
      "outputs": [
        {
          "output_type": "stream",
          "text": [
            "Enter the value in Celcius : 32\n",
            "The value in fahrenheit is :  89.6\n"
          ],
          "name": "stdout"
        }
      ]
    },
    {
      "cell_type": "code",
      "metadata": {
        "colab": {
          "base_uri": "https://localhost:8080/"
        },
        "id": "3PG1pYgpLZ80",
        "outputId": "9d032060-1fb8-4434-c808-e4e18b86b385"
      },
      "source": [
        "def triangle_area(base,height):\r\n",
        "  area=(1/2)*base*height\r\n",
        "  return area\r\n",
        "\r\n",
        "base = int(input(\"Enter the base of the triangle : \"))\r\n",
        "height = int(input(\"Enter the height of the triangle : \"))\r\n",
        "triangle_area(base,height)"
      ],
      "execution_count": 9,
      "outputs": [
        {
          "output_type": "stream",
          "text": [
            "Enter the base of the triangle : 12\n",
            "Enter the height of the triangle : 15\n"
          ],
          "name": "stdout"
        },
        {
          "output_type": "execute_result",
          "data": {
            "text/plain": [
              "90.0"
            ]
          },
          "metadata": {
            "tags": []
          },
          "execution_count": 9
        }
      ]
    }
  ]
}