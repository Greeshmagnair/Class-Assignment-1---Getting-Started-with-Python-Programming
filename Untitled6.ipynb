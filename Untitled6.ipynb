{
  "nbformat": 4,
  "nbformat_minor": 0,
  "metadata": {
    "colab": {
      "name": "Untitled6.ipynb",
      "provenance": [],
      "authorship_tag": "ABX9TyPmTul31acSXTFVfCbgsPck",
      "include_colab_link": true
    },
    "kernelspec": {
      "name": "python3",
      "display_name": "Python 3"
    }
  },
  "cells": [
    {
      "cell_type": "markdown",
      "metadata": {
        "id": "view-in-github",
        "colab_type": "text"
      },
      "source": [
        "<a href=\"https://colab.research.google.com/github/Greeshmagnair/Class-Assignment-1---Getting-Started-with-Python-Programming/blob/master/Untitled6.ipynb\" target=\"_parent\"><img src=\"https://colab.research.google.com/assets/colab-badge.svg\" alt=\"Open In Colab\"/></a>"
      ]
    },
    {
      "cell_type": "code",
      "metadata": {
        "colab": {
          "base_uri": "https://localhost:8080/"
        },
        "id": "bgxcUBU1pP3-",
        "outputId": "d96f089a-4caa-4c11-91a0-2b8e8cd16b30"
      },
      "source": [
        "str1 = input(\"Enter the first string:\")\n",
        "ch = input(\"Enter the character:\")\n",
        "newch = input(\"Enter the new character:\")\n",
        "\n",
        "str2 = str1.replace(ch,newch)\n",
        "print(\"\\n Orginal String:\", str1)\n",
        "print(\"\\n Modified String:\", str2)"
      ],
      "execution_count": 5,
      "outputs": [
        {
          "output_type": "stream",
          "text": [
            "Enter the first string:hi\n",
            "Enter the character:i\n",
            "Enter the new character:y\n",
            "\n",
            " Orginal String: hi\n",
            "\n",
            " Modified String: hy\n"
          ],
          "name": "stdout"
        }
      ]
    },
    {
      "cell_type": "code",
      "metadata": {
        "id": "kI9cxPJYtWQC"
      },
      "source": [
        "import shutil;\n",
        "print(\"Enter 'x' for exit.\");\n",
        "filename1 = input(\"Enter first file name to merge: \");\n",
        "if filename1 == 'x':\n",
        "    exit();\n",
        "else:\n",
        "    filename2 = input(\"Enter second file name to merge: \");\n",
        "    filename3 = input(\"Create a new file to merge content of two file inside this file: \");\n",
        "    print();\n",
        "    print(\"Merging the content of two file in\",filename3);\n",
        "    with open(filename3, \"wb\") as wfd:\n",
        "        for f in [filename1, filename2]:\n",
        "            with open(f, \"rb\") as fd:\n",
        "                shutil.copyfileobj(fd, wfd, 1024*1024*10);\n",
        "    print(\"\\nContent merged successfully.!\");\n",
        "    print(\"Want to see ? (y/n): \");\n",
        "    check = input();\n",
        "    if check == 'n':\n",
        "        exit();\n",
        "    else:\n",
        "        print();\n",
        "        c = open(filename3, \"r\");\n",
        "        print(c.read());\n",
        "        c.close();"
      ],
      "execution_count": null,
      "outputs": []
    },
    {
      "cell_type": "code",
      "metadata": {
        "id": "SCZ6lOQnuMay"
      },
      "source": [
        "file = open(\"gfg.txt\",\"r\") \n",
        "Counter = 0\n",
        "  \n",
        "Content = file.read() \n",
        "CoList = Content.split(\"\\n\") \n",
        "  \n",
        "for i in CoList: \n",
        "    if i: \n",
        "        Counter += 1\n",
        "          \n",
        "print(\"This is the number of lines in the file\") \n",
        "print(Counter) "
      ],
      "execution_count": null,
      "outputs": []
    },
    {
      "cell_type": "code",
      "metadata": {
        "id": "xsWSW83GslJB"
      },
      "source": [
        "from collections import Counter\n",
        "def word_count(fname):\n",
        "        with open(fname) as f:\n",
        "                return Counter(f.read().split())\n",
        "\n",
        "print(\"Number of words in the file :\",word_count(\"test.txt\"))"
      ],
      "execution_count": null,
      "outputs": []
    }
  ]
}