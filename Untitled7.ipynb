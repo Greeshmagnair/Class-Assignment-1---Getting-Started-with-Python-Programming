{
  "nbformat": 4,
  "nbformat_minor": 0,
  "metadata": {
    "colab": {
      "name": "Untitled7.ipynb",
      "provenance": [],
      "collapsed_sections": [],
      "authorship_tag": "ABX9TyOtpKNfkC5i9WUI044eeo3G",
      "include_colab_link": true
    },
    "kernelspec": {
      "name": "python3",
      "display_name": "Python 3"
    }
  },
  "cells": [
    {
      "cell_type": "markdown",
      "metadata": {
        "id": "view-in-github",
        "colab_type": "text"
      },
      "source": [
        "<a href=\"https://colab.research.google.com/github/Greeshmagnair/Class-Assignment-1---Getting-Started-with-Python-Programming/blob/master/Untitled7.ipynb\" target=\"_parent\"><img src=\"https://colab.research.google.com/assets/colab-badge.svg\" alt=\"Open In Colab\"/></a>"
      ]
    },
    {
      "cell_type": "code",
      "metadata": {
        "colab": {
          "base_uri": "https://localhost:8080/"
        },
        "id": "-MV-1CLAZM3s",
        "outputId": "03c1745b-3227-4bba-a05b-f834e42f11f6"
      },
      "source": [
        "class Singlenumber:\n",
        "    def _init_(self):\n",
        "        self.intnum=0\n",
        "        self.sumdigit=0\n",
        "        self.singlenum=0\n",
        "\n",
        "    def input(self):\n",
        "        self.intnum=int(input(\"Enter a number : \"))\n",
        "\n",
        "    def calc(self):\n",
        "        self.singlenum = self.intnum\n",
        "        while(self.singlenum > 9):\n",
        "            self.sumdigit = 0\n",
        "            while(self.intnum > 0):\n",
        "                r = int(self.intnum % 10)\n",
        "                self.sumdigit = self.sumdigit+r\n",
        "                self.intnum = int(self.intnum/10)\n",
        "            self.singlenum = self.sumdigit\n",
        "            self.intnum = self.sumdigit\n",
        "    def display(self):\n",
        "        print(\"The Single number is : \",self.singlenum)\n",
        "ob=Singlenumber()\n",
        "ob.input()\n",
        "ob.calc()\n",
        "ob.display()"
      ],
      "execution_count": 1,
      "outputs": [
        {
          "output_type": "stream",
          "text": [
            "Enter a number : 1236\n",
            "The Single number is :  3\n"
          ],
          "name": "stdout"
        }
      ]
    },
    {
      "cell_type": "code",
      "metadata": {
        "colab": {
          "base_uri": "https://localhost:8080/"
        },
        "id": "koMxrDKBdFst",
        "outputId": "2fd1d235-da34-4897-e1d4-aefb0cc9b1d9"
      },
      "source": [
        "class Polygon:\n",
        "    def __init__(self,number,name):\n",
        "        self.number = number\n",
        "        self.name=name\n",
        "        self.sides=[]\n",
        "    def inputSides(self):\n",
        "        print(self.name)\n",
        "        for i in range(0,self.number):\n",
        "            ele=float(input(\"Enter side \"+str(i+1)+\" : \"))\n",
        "            self.sides.append(ele)\n",
        "class Triangle(Polygon):\n",
        "    def __init__(self):\n",
        "        Polygon.__init__(self, 3 ,\"TRIANGLE :\")\n",
        "\n",
        "    def triArea(self):\n",
        "        a, b, c = self.sides\n",
        "        s = (a + b + c) / 2\n",
        "        area = (s*(s-a)*(s-b)*(s-c)) ** 0.5\n",
        "        print(\"The area of the triangle is : %0.2f  \" % area)\n",
        "\n",
        "class Square(Polygon):\n",
        "\n",
        "    def __init__(self):\n",
        "        Polygon.__init__(self, 2, \"SQUARE :\")\n",
        "    \n",
        "    def sqArea(self):\n",
        "        a, b = self.sides\n",
        "        area=a**2\n",
        "        print(\"The area of square is : %0.2f  \" % area)\n",
        "\n",
        "\n",
        "ob = Triangle()\n",
        "ob.inputSides()\n",
        "ob.triArea()\n",
        "ob1 = Square()\n",
        "ob1.inputSides()\n",
        "ob1.sqArea()"
      ],
      "execution_count": 7,
      "outputs": [
        {
          "output_type": "stream",
          "text": [
            "TRIANGLE :\n",
            "Enter side 1 : 3\n",
            "Enter side 2 : 6\n",
            "Enter side 3 : 7\n",
            "The area of the triangle is : 8.94  \n",
            "SQUARE :\n",
            "Enter side 1 : 2\n",
            "Enter side 2 : 4\n",
            "The area of square is : 4.00  \n"
          ],
          "name": "stdout"
        }
      ]
    }
  ]
}