{
  "nbformat": 4,
  "nbformat_minor": 0,
  "metadata": {
    "colab": {
      "name": "Untitled",
      "provenance": [],
      "authorship_tag": "ABX9TyM1EtPfM9F8Dx0PPmA/m4in",
      "include_colab_link": true
    },
    "kernelspec": {
      "name": "python3",
      "display_name": "Python 3"
    }
  },
  "cells": [
    {
      "cell_type": "markdown",
      "metadata": {
        "id": "view-in-github",
        "colab_type": "text"
      },
      "source": [
        "<a href=\"https://colab.research.google.com/github/Greeshmagnair/Class-Assignment-1---Getting-Started-with-Python-Programming/blob/master/Untitled.ipynb\" target=\"_parent\"><img src=\"https://colab.research.google.com/assets/colab-badge.svg\" alt=\"Open In Colab\"/></a>"
      ]
    },
    {
      "cell_type": "code",
      "metadata": {
        "id": "UEK3MAmncX91",
        "outputId": "25e20993-ccaa-4367-cc4e-0b4342d47b34",
        "colab": {
          "base_uri": "https://localhost:8080/"
        }
      },
      "source": [
        "test_list = [2,4,5,5,6,3,4,2,7]\n",
        "print(\"the orginal list :\"+str (test_list))\n",
        "res= sorted (set(test_list) ,key= lambda ele: test_list.count (ele))\n",
        "print(\"The list after sorting and removal :\" + str (res))"
      ],
      "execution_count": null,
      "outputs": [
        {
          "output_type": "stream",
          "text": [
            "the orginal list :[2, 4, 5, 5, 6, 3, 4, 2, 7]\n",
            "The list after sorting and removal :[3, 6, 7, 2, 4, 5]\n"
          ],
          "name": "stdout"
        }
      ]
    },
    {
      "cell_type": "code",
      "metadata": {
        "id": "P_0yfkfRe6iF",
        "outputId": "ce32a1bf-58f9-48f2-9896-08b32995f35f",
        "colab": {
          "base_uri": "https://localhost:8080/",
          "height": 130
        }
      },
      "source": [
        "def fileExists(file):\n",
        " try:\n",
        "    f = open(file,'r')\n",
        "    f.close ()\n",
        " except  FileNotFoundError:\n",
        "    return False\n",
        "    return True\n",
        "def isLineEmpty (line):\n",
        "    return len (line.strip ()) <1\n",
        "def removeEmptyLines (files):\n",
        "      lines = []\n",
        "      if not fileExists (file):\n",
        "        print (\"{} does not exist\".formate(file)\n",
        "      return\n",
        "      out = open (file,'r')\n",
        "      lines = out.readlines ()\n",
        "      out.close ()\n",
        "      out = open (file,'w')\n",
        "      t=[]\n",
        "      for line in lines:\n",
        "        if not isLineEmpty(line):\n",
        "          t.append (line)    \n",
        "          out.writelines (t)\n",
        "          out.close ()"
      ],
      "execution_count": 22,
      "outputs": [
        {
          "output_type": "error",
          "ename": "SyntaxError",
          "evalue": "ignored",
          "traceback": [
            "\u001b[0;36m  File \u001b[0;32m\"<ipython-input-22-5ab7df7d5801>\"\u001b[0;36m, line \u001b[0;32m14\u001b[0m\n\u001b[0;31m    return\u001b[0m\n\u001b[0m         ^\u001b[0m\n\u001b[0;31mSyntaxError\u001b[0m\u001b[0;31m:\u001b[0m invalid syntax\n"
          ]
        }
      ]
    }
  ]
}