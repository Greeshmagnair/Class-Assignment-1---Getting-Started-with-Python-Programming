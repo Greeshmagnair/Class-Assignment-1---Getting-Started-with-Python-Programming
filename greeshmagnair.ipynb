{
  "nbformat": 4,
  "nbformat_minor": 0,
  "metadata": {
    "colab": {
      "name": "Copy of Untitled2.ipynb",
      "provenance": [],
      "collapsed_sections": [],
      "authorship_tag": "ABX9TyPk7uI5cQG3TOEmbAc699IB",
      "include_colab_link": true
    },
    "kernelspec": {
      "name": "python3",
      "display_name": "Python 3"
    }
  },
  "cells": [
    {
      "cell_type": "markdown",
      "metadata": {
        "id": "view-in-github",
        "colab_type": "text"
      },
      "source": [
        "<a href=\"https://colab.research.google.com/github/Greeshmagnair/Class-Assignment-1---Getting-Started-with-Python-Programming/blob/master/greeshmagnair.ipynb\" target=\"_parent\"><img src=\"https://colab.research.google.com/assets/colab-badge.svg\" alt=\"Open In Colab\"/></a>"
      ]
    },
    {
      "cell_type": "code",
      "metadata": {
        "id": "EoDw-NHc53HF",
        "colab_type": "code",
        "colab": {
          "base_uri": "https://localhost:8080/",
          "height": 34
        },
        "outputId": "3d01ed4a-75f0-4bdd-c098-8a065fccbf0b"
      },
      "source": [
        "def search(list,element):\n",
        "  for i in range(len(list)):\n",
        "    if list[i] == element:\n",
        "      return True\n",
        "  return False\n",
        "s = ['1','3','5','7','34','56','21']\n",
        "element='6'\n",
        "if search(s,element):\n",
        "  print(\"The element is found\")\n",
        "else:\n",
        "  print(\"The element is not found\")"
      ],
      "execution_count": null,
      "outputs": [
        {
          "output_type": "stream",
          "text": [
            "The element is not found\n"
          ],
          "name": "stdout"
        }
      ]
    }
  ]
}