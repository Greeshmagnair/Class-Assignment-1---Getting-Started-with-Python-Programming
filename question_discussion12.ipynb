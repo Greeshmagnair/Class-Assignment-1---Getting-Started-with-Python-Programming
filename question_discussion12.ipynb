{
  "nbformat": 4,
  "nbformat_minor": 0,
  "metadata": {
    "colab": {
      "name": "question discussion12.ipynb",
      "provenance": [],
      "authorship_tag": "ABX9TyNrmd1OdVQiVmChPfDsNtLe",
      "include_colab_link": true
    },
    "kernelspec": {
      "name": "python3",
      "display_name": "Python 3"
    }
  },
  "cells": [
    {
      "cell_type": "markdown",
      "metadata": {
        "id": "view-in-github",
        "colab_type": "text"
      },
      "source": [
        "<a href=\"https://colab.research.google.com/github/Greeshmagnair/Class-Assignment-1---Getting-Started-with-Python-Programming/blob/master/question_discussion12.ipynb\" target=\"_parent\"><img src=\"https://colab.research.google.com/assets/colab-badge.svg\" alt=\"Open In Colab\"/></a>"
      ]
    },
    {
      "cell_type": "code",
      "metadata": {
        "colab": {
          "base_uri": "https://localhost:8080/"
        },
        "id": "q9HA_SeGMweL",
        "outputId": "2e2bdeb2-cdb4-4517-a6cc-fa72b9c7607a"
      },
      "source": [
        "test_str = \"python\"\r\n",
        "all_freq = {} \r\n",
        "  \r\n",
        "for i in test_str: \r\n",
        "    if i in all_freq: \r\n",
        "        all_freq[i] += 1\r\n",
        "    else: \r\n",
        "        all_freq[i] = 1\r\n",
        "        print (\"Count of all characters in python is :\\n \"+  str(all_freq))"
      ],
      "execution_count": 9,
      "outputs": [
        {
          "output_type": "stream",
          "text": [
            "Count of all characters in python is :\n",
            " {'p': 1}\n",
            "Count of all characters in python is :\n",
            " {'p': 1, 'y': 1}\n",
            "Count of all characters in python is :\n",
            " {'p': 1, 'y': 1, 't': 1}\n",
            "Count of all characters in python is :\n",
            " {'p': 1, 'y': 1, 't': 1, 'h': 1}\n",
            "Count of all characters in python is :\n",
            " {'p': 1, 'y': 1, 't': 1, 'h': 1, 'o': 1}\n",
            "Count of all characters in python is :\n",
            " {'p': 1, 'y': 1, 't': 1, 'h': 1, 'o': 1, 'n': 1}\n"
          ],
          "name": "stdout"
        }
      ]
    },
    {
      "cell_type": "code",
      "metadata": {
        "colab": {
          "base_uri": "https://localhost:8080/"
        },
        "id": "QSoUzZosOvpd",
        "outputId": "e786d939-68ac-4d7b-82bf-80ec3c752403"
      },
      "source": [
        "my_list = [-15, -26, 15, 1, 23, -64, 23, 76]\r\n",
        "new_list = []\r\n",
        "\r\n",
        "while my_list:\r\n",
        "    min = my_list[0]  \r\n",
        "    for x in my_list: \r\n",
        "        if x < min:\r\n",
        "            min = x\r\n",
        "    new_list.append(min)\r\n",
        "    my_list.remove(min)    \r\n",
        "\r\n",
        "print(new_list)"
      ],
      "execution_count": 10,
      "outputs": [
        {
          "output_type": "stream",
          "text": [
            "[-64, -26, -15, 1, 15, 23, 23, 76]\n"
          ],
          "name": "stdout"
        }
      ]
    },
    {
      "cell_type": "code",
      "metadata": {
        "colab": {
          "base_uri": "https://localhost:8080/"
        },
        "id": "BYgmEejbRcuk",
        "outputId": "ea02d7d3-47c8-4b3d-c1a1-07cf9ebf8a7f"
      },
      "source": [
        "def isPalindrome(str):\r\n",
        "\r\n",
        "\tfor i in range(0, int(len(str)/2)): \r\n",
        "\t\tif str[i] != str[len(str)-i-1]:\r\n",
        "\t\t\treturn False\r\n",
        "\treturn True\r\n",
        "\r\n",
        "s = \"malayalam\"\r\n",
        "ans = isPalindrome(s)\r\n",
        "\r\n",
        "if (ans):\r\n",
        "\tprint(\"Yes\")\r\n",
        "else:\r\n",
        "\tprint(\"No\")"
      ],
      "execution_count": 11,
      "outputs": [
        {
          "output_type": "stream",
          "text": [
            "Yes\n"
          ],
          "name": "stdout"
        }
      ]
    },
    {
      "cell_type": "code",
      "metadata": {
        "colab": {
          "base_uri": "https://localhost:8080/"
        },
        "id": "hsrA5kh2R9S8",
        "outputId": "abc0e2d3-9fba-4229-a596-0cd8e1283599"
      },
      "source": [
        "import math; \r\n",
        "\r\n",
        "def cal_sin(n): \r\n",
        "\taccuracy = 0.0001; \r\n",
        "\tn = n * (3.142 / 180.0); \r\n",
        "\tx1 = n; \r\n",
        "\tsinx = n;\t \r\n",
        "\tsinval = math.sin(n); \r\n",
        "\ti = 1; \r\n",
        "\twhile(True): \r\n",
        "\t\tdenominator = 2 * i * (2 * i + 1); \r\n",
        "\t\tx1 = -x1 * n * n / denominator; \r\n",
        "\t\tsinx = sinx + x1; \r\n",
        "\t\ti = i + 1; \r\n",
        "\t\tif(accuracy <= abs(sinval - sinx)): \r\n",
        "\t\t\tbreak; \r\n",
        "\t\t\r\n",
        "\tprint(round(sinx)); \r\n",
        " \r\n",
        "n = 90; \r\n",
        "cal_sin(n); "
      ],
      "execution_count": 12,
      "outputs": [
        {
          "output_type": "stream",
          "text": [
            "1\n"
          ],
          "name": "stdout"
        }
      ]
    },
    {
      "cell_type": "code",
      "metadata": {
        "colab": {
          "base_uri": "https://localhost:8080/"
        },
        "id": "QQvMpK0baOj3",
        "outputId": "9a8f8e59-5a36-4fc7-ab30-e374c661576b"
      },
      "source": [
        "import re\r\n",
        "p= input(\"Input your password:\")\r\n",
        "x = True\r\n",
        "while x:  \r\n",
        "    if (len(p)<6 or len(p)>12):\r\n",
        "        break\r\n",
        "    elif not re.search(\"[a-z]\",p):\r\n",
        "        break\r\n",
        "    elif not re.search(\"[0-9]\",p):\r\n",
        "        break\r\n",
        "    elif not re.search(\"[A-Z]\",p):\r\n",
        "        break\r\n",
        "    elif not re.search(\"[$#@]\",p):\r\n",
        "        break\r\n",
        "    elif re.search(\"\\s\",p):\r\n",
        "        break\r\n",
        "    else:\r\n",
        "        print(\"Valid Password\")\r\n",
        "        x=False\r\n",
        "        break\r\n",
        "\r\n",
        "if x:\r\n",
        "    print(\"Not a Valid Password\")\r\n"
      ],
      "execution_count": 16,
      "outputs": [
        {
          "output_type": "stream",
          "text": [
            "Input your password:Gr123jk$\n",
            "Valid Password\n"
          ],
          "name": "stdout"
        }
      ]
    }
  ]
}