{
  "nbformat": 4,
  "nbformat_minor": 0,
  "metadata": {
    "colab": {
      "name": "Untitled11.ipynb",
      "provenance": [],
      "authorship_tag": "ABX9TyNmG8CA2WSSNKF8YFWI3FsY",
      "include_colab_link": true
    },
    "kernelspec": {
      "name": "python3",
      "display_name": "Python 3"
    }
  },
  "cells": [
    {
      "cell_type": "markdown",
      "metadata": {
        "id": "view-in-github",
        "colab_type": "text"
      },
      "source": [
        "<a href=\"https://colab.research.google.com/github/Greeshmagnair/Class-Assignment-1---Getting-Started-with-Python-Programming/blob/master/question%20%20discussion11.ipynb\" target=\"_parent\"><img src=\"https://colab.research.google.com/assets/colab-badge.svg\" alt=\"Open In Colab\"/></a>"
      ]
    },
    {
      "cell_type": "code",
      "metadata": {
        "colab": {
          "base_uri": "https://localhost:8080/"
        },
        "id": "TRBum_ciZYAp",
        "outputId": "2b83a76b-deef-4a23-e399-a4204799d80e"
      },
      "source": [
        "year = int(input(\"Enter a year: \"))  \r\n",
        "if (year % 4) == 0:  \r\n",
        "   if (year % 100) == 0:  \r\n",
        "       if (year % 400) == 0:  \r\n",
        "           print(\"{0} is a leap year\".format(year))  \r\n",
        "       else:  \r\n",
        "           print(\"{0} is not a leap year\".format(year))  \r\n",
        "   else:  \r\n",
        "       print(\"{0} is a leap year\".format(year))  \r\n",
        "else:  \r\n",
        "   print(\"{0} is not a leap year\".format(year))  "
      ],
      "execution_count": 1,
      "outputs": [
        {
          "output_type": "stream",
          "text": [
            "Enter a year: 2000\n",
            "2000 is a leap year\n"
          ],
          "name": "stdout"
        }
      ]
    },
    {
      "cell_type": "code",
      "metadata": {
        "colab": {
          "base_uri": "https://localhost:8080/"
        },
        "id": "7uP2rghXZ90H",
        "outputId": "80ab6cb1-acc9-47fd-bd06-c9c0686e7e9b"
      },
      "source": [
        "X = [[1,2,3], \r\n",
        "       [4 ,5,6], \r\n",
        "       [7 ,8,9]] \r\n",
        "  \r\n",
        "Y = [[9,8,7], \r\n",
        "       [6,5,4], \r\n",
        "       [3,2,1]] \r\n",
        "\r\n",
        "result = [[0,0,0], \r\n",
        "        [0,0,0], \r\n",
        "        [0,0,0]] \r\n",
        "for i in range(len(X)):    \r\n",
        "    for j in range(len(X[0])): \r\n",
        "        result[i][j] = X[i][j] + Y[i][j] \r\n",
        "for r in result: \r\n",
        "    print(r) "
      ],
      "execution_count": 2,
      "outputs": [
        {
          "output_type": "stream",
          "text": [
            "[10, 10, 10]\n",
            "[10, 10, 10]\n",
            "[10, 10, 10]\n"
          ],
          "name": "stdout"
        }
      ]
    },
    {
      "cell_type": "code",
      "metadata": {
        "colab": {
          "base_uri": "https://localhost:8080/"
        },
        "id": "syOdFEDtdep9",
        "outputId": "fb1d1477-0c69-443d-ef22-d30e663dd0fe"
      },
      "source": [
        "def isPalindrome(s):\r\n",
        "    return s == s[::-1]\r\n",
        "s = \"malayalam\"\r\n",
        "ans = isPalindrome(s)\r\n",
        " \r\n",
        "if ans:\r\n",
        "    print(\"Yes\")\r\n",
        "else:\r\n",
        "    print(\"No\")"
      ],
      "execution_count": 16,
      "outputs": [
        {
          "output_type": "stream",
          "text": [
            "Yes\n"
          ],
          "name": "stdout"
        }
      ]
    },
    {
      "cell_type": "code",
      "metadata": {
        "colab": {
          "base_uri": "https://localhost:8080/"
        },
        "id": "VC72yxywZ9_5",
        "outputId": "ec3a529c-8e90-4a62-875f-9dbe35440ba5"
      },
      "source": [
        "list1 = [] \r\n",
        "num = int(input(\"Enter number of elements in list: \")) \r\n",
        "for i in range(1, num + 1): \r\n",
        "    ele = int(input(\"Enter elements: \")) \r\n",
        "    list1.append(ele) \r\n",
        "print(\"Largest element is:\", max(list1)) \r\n"
      ],
      "execution_count": 7,
      "outputs": [
        {
          "output_type": "stream",
          "text": [
            "Enter number of elements in list: 4\n",
            "Enter elements: 3\n",
            "Enter elements: 6\n",
            "Enter elements: 2\n",
            "Enter elements: 5\n",
            "Largest element is: 6\n"
          ],
          "name": "stdout"
        }
      ]
    },
    {
      "cell_type": "code",
      "metadata": {
        "colab": {
          "base_uri": "https://localhost:8080/"
        },
        "id": "-HgEeHViZ-GI",
        "outputId": "6088fad4-d78b-4219-dee4-8468cbbfcb21"
      },
      "source": [
        "def common_member(a, b): \r\n",
        "    a_set = set(a) \r\n",
        "    b_set = set(b) \r\n",
        "  \r\n",
        "    if (a_set & b_set): \r\n",
        "        print(a_set & b_set) \r\n",
        "    else: \r\n",
        "        print(\"No common elements\")  \r\n",
        "\r\n",
        "a = [1, 2, 3, 4, 5] \r\n",
        "b = [5, 6, 7, 8, 9] \r\n",
        "common_member(a, b) \r\n",
        "   \r\n",
        "a = [1, 2, 3, 4, 5] \r\n",
        "b = [6, 7, 8, 9] \r\n",
        "common_member(a, b) "
      ],
      "execution_count": 8,
      "outputs": [
        {
          "output_type": "stream",
          "text": [
            "{5}\n",
            "No common elements\n"
          ],
          "name": "stdout"
        }
      ]
    },
    {
      "cell_type": "code",
      "metadata": {
        "colab": {
          "base_uri": "https://localhost:8080/"
        },
        "id": "vTBcWDk0dA-4",
        "outputId": "72b9dc69-7850-4fa3-b735-0375f1561eff"
      },
      "source": [
        "def permutation(lst): \r\n",
        "\r\n",
        "    if len(lst) == 0: \r\n",
        "        return [] \r\n",
        "\r\n",
        "    if len(lst) == 1: \r\n",
        "        return [lst] \r\n",
        "\r\n",
        "    l = []\r\n",
        "    for i in range(len(lst)): \r\n",
        "       m = lst[i] \r\n",
        "       remLst = lst[:i] + lst[i+1:] \r\n",
        "  \r\n",
        "       for p in permutation(remLst): \r\n",
        "           l.append([m] + p) \r\n",
        "    return l \r\n",
        "  \r\n",
        "data = list('123') \r\n",
        "for p in permutation(data): \r\n",
        "    print(p) "
      ],
      "execution_count": 15,
      "outputs": [
        {
          "output_type": "stream",
          "text": [
            "['1', '2', '3']\n",
            "['1', '3', '2']\n",
            "['2', '1', '3']\n",
            "['2', '3', '1']\n",
            "['3', '1', '2']\n",
            "['3', '2', '1']\n"
          ],
          "name": "stdout"
        }
      ]
    }
  ]
}