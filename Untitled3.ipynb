{
  "nbformat": 4,
  "nbformat_minor": 0,
  "metadata": {
    "colab": {
      "name": "Untitled3.ipynb",
      "provenance": [],
      "authorship_tag": "ABX9TyM+cNwtkhYCa3VplZi23cGD",
      "include_colab_link": true
    },
    "kernelspec": {
      "name": "python3",
      "display_name": "Python 3"
    }
  },
  "cells": [
    {
      "cell_type": "markdown",
      "metadata": {
        "id": "view-in-github",
        "colab_type": "text"
      },
      "source": [
        "<a href=\"https://colab.research.google.com/github/Greeshmagnair/Class-Assignment-1---Getting-Started-with-Python-Programming/blob/master/Untitled3.ipynb\" target=\"_parent\"><img src=\"https://colab.research.google.com/assets/colab-badge.svg\" alt=\"Open In Colab\"/></a>"
      ]
    },
    {
      "cell_type": "code",
      "metadata": {
        "colab": {
          "base_uri": "https://localhost:8080/"
        },
        "id": "J1qKkrLFAen8",
        "outputId": "2df0836b-9221-4388-bb13-9074d82dbf1a"
      },
      "source": [
        "import math\n",
        "class circle():\n",
        "    def __init__(self,radius):\n",
        "        self.radius=radius\n",
        "    def area(self):\n",
        "        return math.pi*(self.radius**2)\n",
        "    def perimeter(self):\n",
        "        return 2*math.pi*self.radius\n",
        " \n",
        "r=int(input(\"Enter radius of circle: \"))\n",
        "obj=circle(r)\n",
        "print(\"Area of circle:\",round(obj.area(),2))\n",
        "print(\"Perimeter of circle:\",round(obj.perimeter(),2))"
      ],
      "execution_count": 10,
      "outputs": [
        {
          "output_type": "stream",
          "text": [
            "Enter radius of circle: 8\n",
            "Area of circle: 201.06\n",
            "Perimeter of circle: 50.27\n"
          ],
          "name": "stdout"
        }
      ]
    },
    {
      "cell_type": "code",
      "metadata": {
        "id": "4gDsBTWJD87v"
      },
      "source": [
        "class Rectangle:\n",
        "\n",
        "    def __init__(self, posn, w, h):\n",
        "        self.corner = posn\n",
        "        self.width = w\n",
        "        self.height = h\n",
        "\n",
        "    def __str__(self):\n",
        "        return format(self.corner, self.width, self.height)\n",
        "\n",
        "box = Rectangle((0, 0), 100, 200)\n",
        "bomb = Rectangle((100, 80), 5, 10)   \n",
        "print(\"a: \", box)\n",
        "print(\"b: \", bomb)"
      ],
      "execution_count": null,
      "outputs": []
    }
  ]
}