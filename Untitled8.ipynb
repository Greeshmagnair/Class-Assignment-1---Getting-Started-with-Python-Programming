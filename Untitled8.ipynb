{
  "nbformat": 4,
  "nbformat_minor": 0,
  "metadata": {
    "colab": {
      "name": "Untitled8.ipynb",
      "provenance": [],
      "authorship_tag": "ABX9TyN/5rCMZvqlC7KyqzvIcCuI",
      "include_colab_link": true
    },
    "kernelspec": {
      "name": "python3",
      "display_name": "Python 3"
    }
  },
  "cells": [
    {
      "cell_type": "markdown",
      "metadata": {
        "id": "view-in-github",
        "colab_type": "text"
      },
      "source": [
        "<a href=\"https://colab.research.google.com/github/Greeshmagnair/Class-Assignment-1---Getting-Started-with-Python-Programming/blob/master/Untitled8.ipynb\" target=\"_parent\"><img src=\"https://colab.research.google.com/assets/colab-badge.svg\" alt=\"Open In Colab\"/></a>"
      ]
    },
    {
      "cell_type": "code",
      "metadata": {
        "colab": {
          "base_uri": "https://localhost:8080/"
        },
        "id": "3NrA9OYnL4lJ",
        "outputId": "2bfbb999-a261-47b8-ebad-a44cb132dd4f"
      },
      "source": [
        "def is_Sublist(l, s):\r\n",
        "\tsub_set = False\r\n",
        "\tif s == []:\r\n",
        "\t\tsub_set = True\r\n",
        "\telif s == l:\r\n",
        "\t\tsub_set = True\r\n",
        "\telif len(s) > len(l):\r\n",
        "\t\tsub_set = False\r\n",
        "\r\n",
        "\telse:\r\n",
        "\t\tfor i in range(len(l)):\r\n",
        "\t\t\tif l[i] == s[0]:\r\n",
        "\t\t\t\tn = 1\r\n",
        "\t\t\t\twhile (n < len(s)) and (l[i+n] == s[n]):\r\n",
        "\t\t\t\t\tn += 1\r\n",
        "\t\t\t\t\r\n",
        "\t\t\t\tif n == len(s):\r\n",
        "\t\t\t\t\tsub_set = True\r\n",
        "\r\n",
        "\treturn sub_set\r\n",
        "\r\n",
        "a = [2,4,3,5,7]\r\n",
        "b = [4,3]\r\n",
        "c = [3,7]\r\n",
        "print(is_Sublist(a, b))\r\n",
        "print(is_Sublist(a, c))"
      ],
      "execution_count": 1,
      "outputs": [
        {
          "output_type": "stream",
          "text": [
            "True\n",
            "False\n"
          ],
          "name": "stdout"
        }
      ]
    },
    {
      "cell_type": "code",
      "metadata": {
        "colab": {
          "base_uri": "https://localhost:8080/"
        },
        "id": "dH740q3iMMNE",
        "outputId": "2343e328-74ce-4554-98fb-1749852085ae"
      },
      "source": [
        "import collections\r\n",
        "my_list = [10,30,10,10,60,20,20,80,40,40,50,50,30]\r\n",
        "print(\"Original List : \",my_list)\r\n",
        "ctr = collections.Counter(my_list)\r\n",
        "print(\"Frequency of the elements in the List : \",ctr)"
      ],
      "execution_count": 3,
      "outputs": [
        {
          "output_type": "stream",
          "text": [
            "Original List :  [10, 30, 10, 10, 60, 20, 20, 80, 40, 40, 50, 50, 30]\n",
            "Frequency of the elements in the List :  Counter({10: 3, 30: 2, 20: 2, 40: 2, 50: 2, 60: 1, 80: 1})\n"
          ],
          "name": "stdout"
        }
      ]
    },
    {
      "cell_type": "code",
      "metadata": {
        "colab": {
          "base_uri": "https://localhost:8080/"
        },
        "id": "w1wkGISnMMVT",
        "outputId": "2b0e6843-221a-40b0-c93f-1e48e8a793ba"
      },
      "source": [
        "def count_range_in_list(li, min, max):\r\n",
        "\tctr = 0\r\n",
        "\tfor x in li:\r\n",
        "\t\tif min <= x <= max:\r\n",
        "\t\t\tctr += 1\r\n",
        "\treturn ctr\r\n",
        "\r\n",
        "list1 = [10,20,30,40,50,60,70,80,99]\r\n",
        "print(count_range_in_list(list1, 40, 100))\r\n",
        "\r\n",
        "list2 = ['a','b','c','d','e','f']\r\n",
        "print(count_range_in_list(list2, 'a', 'e'))"
      ],
      "execution_count": 5,
      "outputs": [
        {
          "output_type": "stream",
          "text": [
            "6\n",
            "5\n"
          ],
          "name": "stdout"
        }
      ]
    },
    {
      "cell_type": "code",
      "metadata": {
        "colab": {
          "base_uri": "https://localhost:8080/"
        },
        "id": "cVJXO-9QMMf9",
        "outputId": "5f8f0527-ea94-4297-92cf-cab7916f75c4"
      },
      "source": [
        "def second_smallest(numbers):\r\n",
        "  if (len(numbers)<2):\r\n",
        "    return\r\n",
        "  if ((len(numbers)==2)  and (numbers[0] == numbers[1]) ):\r\n",
        "    return\r\n",
        "  dup_items = set()\r\n",
        "  uniq_items = []\r\n",
        "  for x in numbers:\r\n",
        "    if x not in dup_items:\r\n",
        "      uniq_items.append(x)\r\n",
        "      dup_items.add(x)\r\n",
        "  uniq_items.sort()    \r\n",
        "  return  uniq_items[1]   \r\n",
        "\r\n",
        "print(second_smallest([1, 2, -8, -1, 0, -2]))\r\n",
        "print(second_smallest([1, 1, 0, 6, 2, -3, -2]))\r\n",
        "print(second_smallest([1, 1, 1, 5, 0, 6, 2, -2, -2]))\r\n",
        "print(second_smallest([2,2]))\r\n",
        "print(second_smallest([2]))"
      ],
      "execution_count": 7,
      "outputs": [
        {
          "output_type": "stream",
          "text": [
            "-2\n",
            "-2\n",
            "0\n",
            "None\n",
            "None\n"
          ],
          "name": "stdout"
        }
      ]
    }
  ]
}