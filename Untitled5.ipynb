{
  "nbformat": 4,
  "nbformat_minor": 0,
  "metadata": {
    "colab": {
      "name": "Untitled5.ipynb",
      "provenance": [],
      "authorship_tag": "ABX9TyOB7p49vHFWHEMl3PABe0EN",
      "include_colab_link": true
    },
    "kernelspec": {
      "name": "python3",
      "display_name": "Python 3"
    }
  },
  "cells": [
    {
      "cell_type": "markdown",
      "metadata": {
        "id": "view-in-github",
        "colab_type": "text"
      },
      "source": [
        "<a href=\"https://colab.research.google.com/github/Greeshmagnair/Class-Assignment-1---Getting-Started-with-Python-Programming/blob/master/Untitled5.ipynb\" target=\"_parent\"><img src=\"https://colab.research.google.com/assets/colab-badge.svg\" alt=\"Open In Colab\"/></a>"
      ]
    },
    {
      "cell_type": "code",
      "metadata": {
        "id": "XyO5x7L5fYfO"
      },
      "source": [
        ""
      ],
      "execution_count": null,
      "outputs": []
    },
    {
      "cell_type": "code",
      "metadata": {
        "colab": {
          "base_uri": "https://localhost:8080/"
        },
        "id": "-GAy2vInh7Il",
        "outputId": "da0b708e-f25a-4c7c-d05d-371277110273"
      },
      "source": [
        "english = float(input(\"enter the 1st marks\"))\n",
        "maths = float(input(\"enter the 2nd marks\"))\n",
        "physics = float(input(\"enter the 3rd marks\"))\n",
        "chemistry = float(input(\"enter the 4th marks\"))\n",
        "computer = float(input(\"enter the 5th marks\"))\n",
        "total = english+maths+physics+chemistry+computer\n",
        "percentage = (total/500)*100\n",
        "print(\"Total marks = %.2f\" %total)\n",
        "print(\"Total percentage = %.2f\" %percentage)\n",
        "if (percentage>=90):\n",
        "    print(\"A Grade\")\n",
        "elif (percentage>=80):\n",
        "    print(\"B Grade\")\n",
        "elif (percentage>=70):\n",
        "    print(\"C Grade\")\n",
        "elif (percentage>=60):\n",
        "    print(\"D Grade\")\n",
        "elif (percentage>=40):\n",
        "    print(\"E Grade\")\n",
        "else:\n",
        "    print(\"Fail\")"
      ],
      "execution_count": 14,
      "outputs": [
        {
          "output_type": "stream",
          "text": [
            "enter the 1st marks89\n",
            "enter the 2nd marks90\n",
            "enter the 3rd marks86\n",
            "enter the 4th marks84\n",
            "enter the 5th marks78\n",
            "Total marks = 427.00\n",
            "Total percentage = 85.40\n",
            "B Grade\n"
          ],
          "name": "stdout"
        }
      ]
    },
    {
      "cell_type": "code",
      "metadata": {
        "id": "UNxPXZd_frzc"
      },
      "source": [
        "import string\n",
        "def letters_file_line(n):\n",
        "   with open(\"words1.txt\", \"w\") as f:\n",
        "       alphabet = string.ascii_uppercase\n",
        "       letters = [alphabet[i:i + n] + \"\\n\" for i in range(0, len(alphabet), n)]\n",
        "       f.writelines(letters)\n",
        "letters_file_line(3)"
      ],
      "execution_count": 2,
      "outputs": []
    },
    {
      "cell_type": "code",
      "metadata": {
        "id": "-wTNfynhoSzx"
      },
      "source": [
        "def file_read(fname):\n",
        "        with open(fname) as f:\n",
        "                #Content_list is the list that contains the read lines.     \n",
        "                content_list = f.readlines()\n",
        "                print(content_list)\n",
        "\n",
        "file_read(\\'test.txt\\')"
      ],
      "execution_count": null,
      "outputs": []
    }
  ]
}